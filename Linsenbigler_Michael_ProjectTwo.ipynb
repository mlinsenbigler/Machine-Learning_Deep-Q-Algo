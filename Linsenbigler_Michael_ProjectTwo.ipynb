{
 "cells": [
  {
   "cell_type": "markdown",
   "metadata": {},
   "source": [
    "# Treasure Hunt Game Notebook\n",
    "\n",
    "## Read and Review Your Starter Code\n",
    "The theme of this project is a popular treasure hunt game in which the player needs to find the treasure before the pirate does. While you will not be developing the entire game, you will write the part of the game that represents the intelligent agent, which is a pirate in this case. The pirate will try to find the optimal path to the treasure using deep Q-learning. \n",
    "\n",
    "You have been provided with two Python classes and this notebook to help you with this assignment. The first class, TreasureMaze.py, represents the environment, which includes a maze object defined as a matrix. The second class, GameExperience.py, stores the episodes – that is, all the states that come in between the initial state and the terminal state. This is later used by the agent for learning by experience, called \"exploration\". This notebook shows how to play a game. Your task is to complete the deep Q-learning implementation for which a skeleton implementation has been provided. The code blocs you will need to complete has #TODO as a header.\n",
    "\n",
    "First, read and review the next few code and instruction blocks to understand the code that you have been given."
   ]
  },
  {
   "cell_type": "code",
   "execution_count": 92,
   "metadata": {},
   "outputs": [],
   "source": [
    "from __future__ import print_function\n",
    "import os, sys, time, datetime, json, random\n",
    "import numpy as np\n",
    "from keras.models import Sequential\n",
    "from keras.layers.core import Dense, Activation\n",
    "from keras.optimizers import SGD , Adam, RMSprop\n",
    "from keras.layers.advanced_activations import PReLU\n",
    "import matplotlib.pyplot as plt\n",
    "from TreasureMaze import TreasureMaze\n",
    "from GameExperience import GameExperience\n",
    "%matplotlib inline"
   ]
  },
  {
   "cell_type": "markdown",
   "metadata": {},
   "source": [
    "The following code block contains an 8x8 matrix that will be used as a maze object:"
   ]
  },
  {
   "cell_type": "code",
   "execution_count": 93,
   "metadata": {},
   "outputs": [],
   "source": [
    "maze = np.array([\n",
    "    [ 1.,  0.,  1.,  1.,  1.,  1.,  1.,  1.],\n",
    "    [ 1.,  0.,  1.,  1.,  1.,  0.,  1.,  1.],\n",
    "    [ 1.,  1.,  1.,  1.,  0.,  1.,  0.,  1.],\n",
    "    [ 1.,  1.,  1.,  0.,  1.,  1.,  1.,  1.],\n",
    "    [ 1.,  1.,  0.,  1.,  1.,  1.,  1.,  1.],\n",
    "    [ 1.,  1.,  1.,  0.,  1.,  0.,  0.,  0.],\n",
    "    [ 1.,  1.,  1.,  0.,  1.,  1.,  1.,  1.],\n",
    "    [ 1.,  1.,  1.,  1.,  0.,  1.,  1.,  1.]\n",
    "])"
   ]
  },
  {
   "cell_type": "markdown",
   "metadata": {},
   "source": [
    "This helper function allows a visual representation of the maze object:"
   ]
  },
  {
   "cell_type": "code",
   "execution_count": 94,
   "metadata": {},
   "outputs": [],
   "source": [
    "def show(qmaze):\n",
    "    plt.grid('on')\n",
    "    nrows, ncols = qmaze.maze.shape\n",
    "    ax = plt.gca()\n",
    "    ax.set_xticks(np.arange(0.5, nrows, 1))\n",
    "    ax.set_yticks(np.arange(0.5, ncols, 1))\n",
    "    ax.set_xticklabels([])\n",
    "    ax.set_yticklabels([])\n",
    "    canvas = np.copy(qmaze.maze)\n",
    "    for row,col in qmaze.visited:\n",
    "        canvas[row,col] = 0.6\n",
    "    pirate_row, pirate_col, _ = qmaze.state\n",
    "    canvas[pirate_row, pirate_col] = 0.3   # pirate cell\n",
    "    canvas[nrows-1, ncols-1] = 0.9 # treasure cell\n",
    "    img = plt.imshow(canvas, interpolation='none', cmap='gray')\n",
    "    return img"
   ]
  },
  {
   "cell_type": "markdown",
   "metadata": {},
   "source": [
    "The pirate agent can move in four directions: left, right, up, and down. \n",
    "\n",
    "While the agent primarily learns by experience through exploitation, often, the agent can choose to explore the environment to find previously undiscovered paths. This is called \"exploration\" and is defined by epsilon. This value is typically a lower value such as 0.1, which means for every ten attempts, the agent will attempt to learn by experience nine times and will randomly explore a new path one time. You are encouraged to try various values for the exploration factor and see how the algorithm performs."
   ]
  },
  {
   "cell_type": "code",
   "execution_count": 95,
   "metadata": {},
   "outputs": [],
   "source": [
    "LEFT = 0\n",
    "UP = 1\n",
    "RIGHT = 2\n",
    "DOWN = 3\n",
    "\n",
    "\n",
    "# Exploration factor\n",
    "epsilon = 0.05\n",
    "\n",
    "# Actions dictionary\n",
    "actions_dict = {\n",
    "    LEFT: 'left',\n",
    "    UP: 'up',\n",
    "    RIGHT: 'right',\n",
    "    DOWN: 'down',\n",
    "}\n",
    "\n",
    "num_actions = len(actions_dict)\n"
   ]
  },
  {
   "cell_type": "markdown",
   "metadata": {},
   "source": [
    "The sample code block and output below show creating a maze object and performing one action (DOWN), which returns the reward. The resulting updated environment is visualized."
   ]
  },
  {
   "cell_type": "code",
   "execution_count": 96,
   "metadata": {},
   "outputs": [
    {
     "name": "stdout",
     "output_type": "stream",
     "text": [
      "reward= -0.04\n"
     ]
    },
    {
     "data": {
      "text/plain": [
       "<matplotlib.image.AxesImage at 0x192a21dd908>"
      ]
     },
     "execution_count": 96,
     "metadata": {},
     "output_type": "execute_result"
    },
    {
     "data": {
      "image/png": "[encoded data removed]",
      "text/plain": [
       "<Figure size 432x288 with 1 Axes>"
      ]
     },
     "metadata": {
      "needs_background": "light"
     },
     "output_type": "display_data"
    }
   ],
   "source": [
    "qmaze = TreasureMaze(maze)\n",
    "canvas, reward, game_over = qmaze.act(DOWN)\n",
    "print(\"reward=\", reward)\n",
    "show(qmaze)"
   ]
  },
  {
   "cell_type": "markdown",
   "metadata": {},
   "source": [
    "This function simulates a full game based on the provided trained model. The other parameters include the TreasureMaze object and the starting position of the pirate."
   ]
  },
  {
   "cell_type": "code",
   "execution_count": 97,
   "metadata": {},
   "outputs": [],
   "source": [
    "def play_game(model, qmaze, pirate_cell):\n",
    "    qmaze.reset(pirate_cell)\n",
    "    envstate = qmaze.observe()\n",
    "    while True:\n",
    "        prev_envstate = envstate\n",
    "        # get next action\n",
    "        q = model.predict(prev_envstate)\n",
    "        action = np.argmax(q[0])\n",
    "\n",
    "        # apply action, get rewards and new state\n",
    "        envstate, reward, game_status = qmaze.act(action)\n",
    "        if game_status == 'win':\n",
    "            return True\n",
    "        elif game_status == 'lose':\n",
    "            return False"
   ]
  },
  {
   "cell_type": "markdown",
   "metadata": {},
   "source": [
    "This function helps you to determine whether the pirate can win any game at all. If your maze is not well designed, the pirate may not win any game at all. In this case, your training would not yield any result. The provided maze in this notebook ensures that there is a path to win and you can run this method to check."
   ]
  },
  {
   "cell_type": "code",
   "execution_count": 98,
   "metadata": {},
   "outputs": [],
   "source": [
    "def completion_check(model, qmaze):\n",
    "    for cell in qmaze.free_cells:\n",
    "        if not qmaze.valid_actions(cell):\n",
    "            return False\n",
    "        if not play_game(model, qmaze, cell):\n",
    "            return False\n",
    "    return True"
   ]
  },
  {
   "cell_type": "markdown",
   "metadata": {},
   "source": [
    "The code you have been given in this block will build the neural network model. Review the code and note the number of layers, as well as the activation, optimizer, and loss functions that are used to train the model."
   ]
  },
  {
   "cell_type": "code",
   "execution_count": 99,
   "metadata": {},
   "outputs": [],
   "source": [
    "def build_model(maze):\n",
    "    model = Sequential()\n",
    "    model.add(Dense(maze.size, input_shape=(maze.size,)))\n",
    "    model.add(PReLU())\n",
    "    model.add(Dense(maze.size))\n",
    "    model.add(PReLU())\n",
    "    model.add(Dense(num_actions))\n",
    "    model.compile(optimizer='adam', loss='mse')\n",
    "    return model"
   ]
  },
  {
   "cell_type": "markdown",
   "metadata": {},
   "source": [
    "# #TODO: Complete the Q-Training Algorithm Code Block\n",
    "\n",
    "This is your deep Q-learning implementation. The goal of your deep Q-learning implementation is to find the best possible navigation sequence that results in reaching the treasure cell while maximizing the reward. In your implementation, you need to determine the optimal number of epochs to achieve a 100% win rate.\n",
    "\n",
    "You will need to complete the section starting with #pseudocode. The pseudocode has been included for you."
   ]
  },
  {
   "cell_type": "code",
   "execution_count": 100,
   "metadata": {},
   "outputs": [],
   "source": [
    "def qtrain(model, maze, **opt):\n",
    "\n",
    "    # exploration factor\n",
    "    global epsilon \n",
    "\n",
    "    # number of epochs\n",
    "    n_epoch = opt.get('n_epoch', 15000)\n",
    "\n",
    "    # maximum memory to store episodes\n",
    "    max_memory = opt.get('max_memory', 1000)\n",
    "\n",
    "    # maximum data size for training\n",
    "    data_size = opt.get('data_size', 50)\n",
    "\n",
    "    # start time\n",
    "    start_time = datetime.datetime.now()\n",
    "\n",
    "    # Construct environment/game from numpy array: maze (see above)\n",
    "    qmaze = TreasureMaze(maze)\n",
    "\n",
    "    # Initialize experience replay object\n",
    "    experience = GameExperience(model, max_memory=max_memory)\n",
    "    \n",
    "    win_history = []   # history of win/lose game\n",
    "    hsize = qmaze.maze.size//2   # history window size\n",
    "    win_rate = 0.0\n",
    "    \n",
    "    for epoch in range(n_epoch):\n",
    "        loss = 0.0\n",
    "        Agent_cell = random.choice(qmaze.free_cells)\n",
    "        qmaze.reset(Agent_cell)\n",
    "        game_over = False\n",
    "\n",
    "        # get initial envstate\n",
    "        envstate = qmaze.observe()\n",
    "\n",
    "        n_episodes = 0\n",
    "        while not game_over:\n",
    "            valid_actions = qmaze.valid_actions()\n",
    "            if not valid_actions: break\n",
    "            prev_envstate = envstate\n",
    "            # Get next action\n",
    "            if np.random.rand() < epsilon:\n",
    "                action = random.choice(valid_actions)\n",
    "            else:\n",
    "                action = np.argmax(experience.predict(prev_envstate))\n",
    "\n",
    "            # Apply action, get reward and new envstate\n",
    "            envstate, reward, game_status = qmaze.act(action)\n",
    "            if game_status == 'win':\n",
    "                win_history.append(1)\n",
    "                game_over = True\n",
    "            elif game_status == 'lose':\n",
    "                win_history.append(0)\n",
    "                game_over = True\n",
    "            else:\n",
    "                game_over = False\n",
    "\n",
    "            # Store episode (experience)\n",
    "            episode = [prev_envstate, action, reward, envstate, game_over]\n",
    "            experience.remember(episode)\n",
    "            n_episodes += 1\n",
    "\n",
    "            # Train neural network model\n",
    "            inputs, targets = experience.get_data(data_size=data_size)\n",
    "            h = model.fit(inputs, targets, epochs=8, batch_size=16, verbose=0)            \n",
    "            loss = model.evaluate(inputs, targets, verbose=0)\n",
    "\n",
    "        if len(win_history) > hsize:\n",
    "            win_rate = sum(win_history[-hsize:]) / hsize\n",
    "\n",
    "\n",
    "    #Print the epoch, loss, episodes, win count, and win rate for each epoch\n",
    "        dt = datetime.datetime.now() - start_time\n",
    "        t = format_time(dt.total_seconds())\n",
    "        template = \"Epoch: {:03d}/{:d} | Loss: {:.4f} | Episodes: {:d} | Win count: {:d} | Win rate: {:.3f} | time: {}\"\n",
    "        print(template.format(epoch, n_epoch, loss, n_episodes, sum(win_history), win_rate, t))\n",
    "        # We simply check if training has exhausted all free cells and if in all\n",
    "        # cases the agent won.\n",
    "        if win_rate > 0.9 : epsilon = 0.05\n",
    "        if sum(win_history[-hsize:]) == hsize and completion_check(model, qmaze):\n",
    "            print(\"Reached 100%% win rate at epoch: %d\" % (epoch,))\n",
    "            break\n",
    "    \n",
    "    # Determine the total time for training\n",
    "    dt = datetime.datetime.now() - start_time\n",
    "    seconds = dt.total_seconds()\n",
    "    t = format_time(seconds)\n",
    "\n",
    "    print(\"n_epoch: %d, max_mem: %d, data: %d, time: %s\" % (epoch, max_memory, data_size, t))\n",
    "    return seconds\n",
    "\n",
    "# This is a small utility for printing readable time strings:\n",
    "def format_time(seconds):\n",
    "    if seconds < 400:\n",
    "        s = float(seconds)\n",
    "        return \"%.1f seconds\" % (s,)\n",
    "    elif seconds < 4000:\n",
    "        m = seconds / 60.0\n",
    "        return \"%.2f minutes\" % (m,)\n",
    "    else:\n",
    "        h = seconds / 3600.0\n",
    "        return \"%.2f hours\" % (h,)"
   ]
  },
  {
   "cell_type": "markdown",
   "metadata": {},
   "source": [
    "## Test Your Model\n",
    "\n",
    "Now we will start testing the deep Q-learning implementation. To begin, select **Cell**, then **Run All** from the menu bar. This will run your notebook. As it runs, you should see output begin to appear beneath the next few cells. The code below creates an instance of TreasureMaze."
   ]
  },
  {
   "cell_type": "code",
   "execution_count": 101,
   "metadata": {},
   "outputs": [
    {
     "data": {
      "text/plain": [
       "<matplotlib.image.AxesImage at 0x192a11519c8>"
      ]
     },
     "execution_count": 101,
     "metadata": {},
     "output_type": "execute_result"
    },
    {
     "data": {
      "image/png": "[encoded data removed]",
      "text/plain": [
       "<Figure size 432x288 with 1 Axes>"
      ]
     },
     "metadata": {
      "needs_background": "light"
     },
     "output_type": "display_data"
    }
   ],
   "source": [
    "qmaze = TreasureMaze(maze)\n",
    "show(qmaze)"
   ]
  },
  {
   "cell_type": "markdown",
   "metadata": {},
   "source": [
    "In the next code block, you will build your model and train it using deep Q-learning. Note: This step takes several minutes to fully run."
   ]
  },
  {
   "cell_type": "code",
   "execution_count": 102,
   "metadata": {},
   "outputs": [
    {
     "name": "stdout",
     "output_type": "stream",
     "text": [
      "Epoch: 000/15000 | Loss: 0.0225 | Episodes: 146 | Win count: 0 | Win rate: 0.000 | time: 10.8 seconds\n",
      "Epoch: 001/15000 | Loss: 0.0098 | Episodes: 136 | Win count: 0 | Win rate: 0.000 | time: 20.1 seconds\n",
      "Epoch: 002/15000 | Loss: 0.0271 | Episodes: 142 | Win count: 0 | Win rate: 0.000 | time: 29.1 seconds\n",
      "Epoch: 003/15000 | Loss: 0.0729 | Episodes: 139 | Win count: 0 | Win rate: 0.000 | time: 38.2 seconds\n",
      "Epoch: 004/15000 | Loss: 0.0012 | Episodes: 134 | Win count: 0 | Win rate: 0.000 | time: 47.1 seconds\n",
      "Epoch: 005/15000 | Loss: 0.0014 | Episodes: 141 | Win count: 0 | Win rate: 0.000 | time: 56.6 seconds\n",
      "Epoch: 006/15000 | Loss: 0.0009 | Episodes: 131 | Win count: 0 | Win rate: 0.000 | time: 65.0 seconds\n",
      "Epoch: 007/15000 | Loss: 0.0730 | Episodes: 133 | Win count: 0 | Win rate: 0.000 | time: 73.8 seconds\n",
      "Epoch: 008/15000 | Loss: 0.0028 | Episodes: 139 | Win count: 0 | Win rate: 0.000 | time: 82.9 seconds\n",
      "Epoch: 009/15000 | Loss: 0.0019 | Episodes: 141 | Win count: 0 | Win rate: 0.000 | time: 91.8 seconds\n",
      "Epoch: 010/15000 | Loss: 0.0019 | Episodes: 1 | Win count: 1 | Win rate: 0.000 | time: 91.9 seconds\n",
      "Epoch: 011/15000 | Loss: 0.0023 | Episodes: 77 | Win count: 2 | Win rate: 0.000 | time: 96.8 seconds\n",
      "Epoch: 012/15000 | Loss: 0.0047 | Episodes: 138 | Win count: 2 | Win rate: 0.000 | time: 107.6 seconds\n",
      "Epoch: 013/15000 | Loss: 0.0456 | Episodes: 100 | Win count: 3 | Win rate: 0.000 | time: 114.0 seconds\n",
      "Epoch: 014/15000 | Loss: 0.0074 | Episodes: 136 | Win count: 3 | Win rate: 0.000 | time: 122.6 seconds\n",
      "Epoch: 015/15000 | Loss: 0.0128 | Episodes: 46 | Win count: 4 | Win rate: 0.000 | time: 125.6 seconds\n",
      "Epoch: 016/15000 | Loss: 0.0173 | Episodes: 142 | Win count: 4 | Win rate: 0.000 | time: 134.8 seconds\n",
      "Epoch: 017/15000 | Loss: 0.0076 | Episodes: 24 | Win count: 5 | Win rate: 0.000 | time: 136.6 seconds\n",
      "Epoch: 018/15000 | Loss: 0.0059 | Episodes: 28 | Win count: 6 | Win rate: 0.000 | time: 138.4 seconds\n",
      "Epoch: 019/15000 | Loss: 0.0074 | Episodes: 2 | Win count: 7 | Win rate: 0.000 | time: 138.5 seconds\n",
      "Epoch: 020/15000 | Loss: 0.0077 | Episodes: 138 | Win count: 7 | Win rate: 0.000 | time: 147.1 seconds\n",
      "Epoch: 021/15000 | Loss: 0.0061 | Episodes: 11 | Win count: 8 | Win rate: 0.000 | time: 147.9 seconds\n",
      "Epoch: 022/15000 | Loss: 0.0067 | Episodes: 139 | Win count: 8 | Win rate: 0.000 | time: 156.5 seconds\n",
      "Epoch: 023/15000 | Loss: 0.0203 | Episodes: 135 | Win count: 8 | Win rate: 0.000 | time: 165.2 seconds\n",
      "Epoch: 024/15000 | Loss: 0.0011 | Episodes: 136 | Win count: 8 | Win rate: 0.000 | time: 173.7 seconds\n",
      "Epoch: 025/15000 | Loss: 0.0012 | Episodes: 139 | Win count: 8 | Win rate: 0.000 | time: 182.9 seconds\n",
      "Epoch: 026/15000 | Loss: 0.0009 | Episodes: 138 | Win count: 8 | Win rate: 0.000 | time: 195.1 seconds\n",
      "Epoch: 027/15000 | Loss: 0.0014 | Episodes: 143 | Win count: 8 | Win rate: 0.000 | time: 206.7 seconds\n",
      "Epoch: 028/15000 | Loss: 0.0009 | Episodes: 1 | Win count: 9 | Win rate: 0.000 | time: 206.8 seconds\n",
      "Epoch: 029/15000 | Loss: 0.0520 | Episodes: 22 | Win count: 10 | Win rate: 0.000 | time: 208.3 seconds\n",
      "Epoch: 030/15000 | Loss: 0.0067 | Episodes: 143 | Win count: 10 | Win rate: 0.000 | time: 218.1 seconds\n",
      "Epoch: 031/15000 | Loss: 0.0019 | Episodes: 144 | Win count: 10 | Win rate: 0.000 | time: 227.7 seconds\n",
      "Epoch: 032/15000 | Loss: 0.0574 | Episodes: 143 | Win count: 10 | Win rate: 0.312 | time: 236.8 seconds\n",
      "Epoch: 033/15000 | Loss: 0.0018 | Episodes: 149 | Win count: 10 | Win rate: 0.312 | time: 246.7 seconds\n",
      "Epoch: 034/15000 | Loss: 0.0023 | Episodes: 9 | Win count: 11 | Win rate: 0.344 | time: 247.3 seconds\n",
      "Epoch: 035/15000 | Loss: 0.0435 | Episodes: 21 | Win count: 12 | Win rate: 0.375 | time: 248.6 seconds\n",
      "Epoch: 036/15000 | Loss: 0.0054 | Episodes: 17 | Win count: 13 | Win rate: 0.406 | time: 249.9 seconds\n",
      "Epoch: 037/15000 | Loss: 0.0028 | Episodes: 13 | Win count: 14 | Win rate: 0.438 | time: 250.8 seconds\n",
      "Epoch: 038/15000 | Loss: 0.0069 | Episodes: 144 | Win count: 14 | Win rate: 0.438 | time: 260.3 seconds\n",
      "Epoch: 039/15000 | Loss: 0.0346 | Episodes: 146 | Win count: 14 | Win rate: 0.438 | time: 270.1 seconds\n",
      "Epoch: 040/15000 | Loss: 0.0348 | Episodes: 139 | Win count: 14 | Win rate: 0.438 | time: 279.4 seconds\n",
      "Epoch: 041/15000 | Loss: 0.0367 | Episodes: 6 | Win count: 15 | Win rate: 0.469 | time: 279.8 seconds\n",
      "Epoch: 042/15000 | Loss: 0.0415 | Episodes: 138 | Win count: 15 | Win rate: 0.438 | time: 288.9 seconds\n",
      "Epoch: 043/15000 | Loss: 0.0024 | Episodes: 141 | Win count: 15 | Win rate: 0.406 | time: 298.2 seconds\n",
      "Epoch: 044/15000 | Loss: 0.0525 | Episodes: 25 | Win count: 16 | Win rate: 0.438 | time: 299.7 seconds\n",
      "Epoch: 045/15000 | Loss: 0.0012 | Episodes: 139 | Win count: 16 | Win rate: 0.406 | time: 308.8 seconds\n",
      "Epoch: 046/15000 | Loss: 0.0012 | Episodes: 139 | Win count: 16 | Win rate: 0.406 | time: 318.1 seconds\n",
      "Epoch: 047/15000 | Loss: 0.0032 | Episodes: 128 | Win count: 17 | Win rate: 0.406 | time: 326.6 seconds\n",
      "Epoch: 048/15000 | Loss: 0.0021 | Episodes: 136 | Win count: 17 | Win rate: 0.406 | time: 335.7 seconds\n",
      "Epoch: 049/15000 | Loss: 0.0014 | Episodes: 2 | Win count: 18 | Win rate: 0.406 | time: 335.8 seconds\n",
      "Epoch: 050/15000 | Loss: 0.0022 | Episodes: 134 | Win count: 18 | Win rate: 0.375 | time: 344.5 seconds\n",
      "Epoch: 051/15000 | Loss: 0.0157 | Episodes: 5 | Win count: 19 | Win rate: 0.375 | time: 344.8 seconds\n",
      "Epoch: 052/15000 | Loss: 0.0089 | Episodes: 152 | Win count: 19 | Win rate: 0.375 | time: 354.6 seconds\n",
      "Epoch: 053/15000 | Loss: 0.0024 | Episodes: 3 | Win count: 20 | Win rate: 0.375 | time: 354.8 seconds\n",
      "Epoch: 054/15000 | Loss: 0.0042 | Episodes: 4 | Win count: 21 | Win rate: 0.406 | time: 355.1 seconds\n",
      "Epoch: 055/15000 | Loss: 0.0105 | Episodes: 26 | Win count: 22 | Win rate: 0.438 | time: 356.8 seconds\n",
      "Epoch: 056/15000 | Loss: 0.0041 | Episodes: 10 | Win count: 23 | Win rate: 0.469 | time: 357.5 seconds\n",
      "Epoch: 057/15000 | Loss: 0.0020 | Episodes: 44 | Win count: 24 | Win rate: 0.500 | time: 360.4 seconds\n",
      "Epoch: 058/15000 | Loss: 0.0140 | Episodes: 33 | Win count: 25 | Win rate: 0.531 | time: 362.6 seconds\n",
      "Epoch: 059/15000 | Loss: 0.0042 | Episodes: 17 | Win count: 26 | Win rate: 0.562 | time: 363.8 seconds\n",
      "Epoch: 060/15000 | Loss: 0.0056 | Episodes: 136 | Win count: 26 | Win rate: 0.531 | time: 373.1 seconds\n",
      "Epoch: 061/15000 | Loss: 0.0060 | Episodes: 66 | Win count: 27 | Win rate: 0.531 | time: 377.8 seconds\n",
      "Epoch: 062/15000 | Loss: 0.0128 | Episodes: 41 | Win count: 28 | Win rate: 0.562 | time: 380.6 seconds\n",
      "Epoch: 063/15000 | Loss: 0.0074 | Episodes: 55 | Win count: 29 | Win rate: 0.594 | time: 384.2 seconds\n",
      "Epoch: 064/15000 | Loss: 0.0038 | Episodes: 19 | Win count: 30 | Win rate: 0.625 | time: 385.4 seconds\n",
      "Epoch: 065/15000 | Loss: 0.0013 | Episodes: 76 | Win count: 31 | Win rate: 0.656 | time: 390.4 seconds\n",
      "Epoch: 066/15000 | Loss: 0.0014 | Episodes: 30 | Win count: 32 | Win rate: 0.656 | time: 392.3 seconds\n",
      "Epoch: 067/15000 | Loss: 0.0018 | Episodes: 11 | Win count: 33 | Win rate: 0.656 | time: 393.0 seconds\n",
      "Epoch: 068/15000 | Loss: 0.0007 | Episodes: 29 | Win count: 34 | Win rate: 0.656 | time: 394.8 seconds\n",
      "Epoch: 069/15000 | Loss: 0.0033 | Episodes: 1 | Win count: 35 | Win rate: 0.656 | time: 394.9 seconds\n",
      "Epoch: 070/15000 | Loss: 0.0010 | Episodes: 50 | Win count: 36 | Win rate: 0.688 | time: 398.0 seconds\n",
      "Epoch: 071/15000 | Loss: 0.0009 | Episodes: 28 | Win count: 37 | Win rate: 0.719 | time: 399.9 seconds\n",
      "Epoch: 072/15000 | Loss: 0.0020 | Episodes: 21 | Win count: 38 | Win rate: 0.750 | time: 6.69 minutes\n",
      "Epoch: 073/15000 | Loss: 0.0013 | Episodes: 25 | Win count: 39 | Win rate: 0.750 | time: 6.72 minutes\n",
      "Epoch: 074/15000 | Loss: 0.0019 | Episodes: 9 | Win count: 40 | Win rate: 0.781 | time: 6.73 minutes\n",
      "Epoch: 075/15000 | Loss: 0.0016 | Episodes: 24 | Win count: 41 | Win rate: 0.812 | time: 6.76 minutes\n",
      "Epoch: 076/15000 | Loss: 0.0028 | Episodes: 4 | Win count: 42 | Win rate: 0.812 | time: 6.76 minutes\n",
      "Epoch: 077/15000 | Loss: 0.0024 | Episodes: 30 | Win count: 43 | Win rate: 0.844 | time: 6.79 minutes\n",
      "Epoch: 078/15000 | Loss: 0.0019 | Episodes: 14 | Win count: 44 | Win rate: 0.875 | time: 6.81 minutes\n",
      "Epoch: 079/15000 | Loss: 0.0021 | Episodes: 19 | Win count: 45 | Win rate: 0.875 | time: 6.83 minutes\n"
     ]
    },
    {
     "name": "stdout",
     "output_type": "stream",
     "text": [
      "Epoch: 080/15000 | Loss: 0.0022 | Episodes: 19 | Win count: 46 | Win rate: 0.906 | time: 6.85 minutes\n",
      "Epoch: 081/15000 | Loss: 0.0012 | Episodes: 1 | Win count: 47 | Win rate: 0.906 | time: 6.86 minutes\n",
      "Epoch: 082/15000 | Loss: 0.0009 | Episodes: 1 | Win count: 48 | Win rate: 0.938 | time: 6.86 minutes\n",
      "Epoch: 083/15000 | Loss: 0.0012 | Episodes: 23 | Win count: 49 | Win rate: 0.938 | time: 6.88 minutes\n",
      "Epoch: 084/15000 | Loss: 0.0008 | Episodes: 17 | Win count: 50 | Win rate: 0.969 | time: 6.90 minutes\n",
      "Epoch: 085/15000 | Loss: 0.0023 | Episodes: 27 | Win count: 51 | Win rate: 0.969 | time: 6.93 minutes\n",
      "Epoch: 086/15000 | Loss: 0.0012 | Episodes: 13 | Win count: 52 | Win rate: 0.969 | time: 6.95 minutes\n",
      "Epoch: 087/15000 | Loss: 0.0007 | Episodes: 29 | Win count: 53 | Win rate: 0.969 | time: 6.98 minutes\n",
      "Epoch: 088/15000 | Loss: 0.0008 | Episodes: 9 | Win count: 54 | Win rate: 0.969 | time: 6.99 minutes\n",
      "Epoch: 089/15000 | Loss: 0.0014 | Episodes: 21 | Win count: 55 | Win rate: 0.969 | time: 7.01 minutes\n",
      "Epoch: 090/15000 | Loss: 0.0007 | Episodes: 26 | Win count: 56 | Win rate: 0.969 | time: 7.04 minutes\n",
      "Epoch: 091/15000 | Loss: 0.0006 | Episodes: 28 | Win count: 57 | Win rate: 0.969 | time: 7.07 minutes\n",
      "Epoch: 092/15000 | Loss: 0.0002 | Episodes: 17 | Win count: 58 | Win rate: 1.000 | time: 7.08 minutes\n",
      "Epoch: 093/15000 | Loss: 0.0002 | Episodes: 25 | Win count: 59 | Win rate: 1.000 | time: 7.11 minutes\n",
      "Epoch: 094/15000 | Loss: 0.0012 | Episodes: 34 | Win count: 60 | Win rate: 1.000 | time: 7.15 minutes\n",
      "Epoch: 095/15000 | Loss: 0.0006 | Episodes: 37 | Win count: 61 | Win rate: 1.000 | time: 7.19 minutes\n",
      "Epoch: 096/15000 | Loss: 0.0005 | Episodes: 21 | Win count: 62 | Win rate: 1.000 | time: 7.22 minutes\n",
      "Epoch: 097/15000 | Loss: 0.0011 | Episodes: 16 | Win count: 63 | Win rate: 1.000 | time: 7.24 minutes\n",
      "Epoch: 098/15000 | Loss: 0.0005 | Episodes: 1 | Win count: 64 | Win rate: 1.000 | time: 7.24 minutes\n",
      "Epoch: 099/15000 | Loss: 0.0006 | Episodes: 2 | Win count: 65 | Win rate: 1.000 | time: 7.24 minutes\n",
      "Epoch: 100/15000 | Loss: 0.0007 | Episodes: 4 | Win count: 66 | Win rate: 1.000 | time: 7.25 minutes\n",
      "Epoch: 101/15000 | Loss: 0.0004 | Episodes: 36 | Win count: 67 | Win rate: 1.000 | time: 7.29 minutes\n",
      "Reached 100% win rate at epoch: 101\n",
      "n_epoch: 101, max_mem: 512, data: 32, time: 7.30 minutes\n"
     ]
    },
    {
     "data": {
      "text/plain": [
       "437.962606"
      ]
     },
     "execution_count": 102,
     "metadata": {},
     "output_type": "execute_result"
    }
   ],
   "source": [
    "model = build_model(maze)\n",
    "qtrain(model, maze, epochs=1000, max_memory=8*maze.size, data_size=32)"
   ]
  },
  {
   "cell_type": "markdown",
   "metadata": {},
   "source": [
    "This cell will check to see if the model passes the completion check. Note: This could take several minutes."
   ]
  },
  {
   "cell_type": "code",
   "execution_count": 103,
   "metadata": {},
   "outputs": [
    {
     "data": {
      "text/plain": [
       "<matplotlib.image.AxesImage at 0x192a23a0188>"
      ]
     },
     "execution_count": 103,
     "metadata": {},
     "output_type": "execute_result"
    },
    {
     "data": {
      "image/png": "[encoded data removed]",
      "text/plain": [
       "<Figure size 432x288 with 1 Axes>"
      ]
     },
     "metadata": {
      "needs_background": "light"
     },
     "output_type": "display_data"
    }
   ],
   "source": [
    "completion_check(model, qmaze)\n",
    "show(qmaze)"
   ]
  },
  {
   "cell_type": "markdown",
   "metadata": {},
   "source": [
    "This cell will test your model for one game. It will start the pirate at the top-left corner and run play_game. The agent should find a path from the starting position to the target (treasure). The treasure is located in the bottom-right corner."
   ]
  },
  {
   "cell_type": "code",
   "execution_count": 104,
   "metadata": {},
   "outputs": [
    {
     "data": {
      "text/plain": [
       "<matplotlib.image.AxesImage at 0x192a152eac8>"
      ]
     },
     "execution_count": 104,
     "metadata": {},
     "output_type": "execute_result"
    },
    {
     "data": {
      "image/png": "[encoded data removed]",
      "text/plain": [
       "<Figure size 432x288 with 1 Axes>"
      ]
     },
     "metadata": {
      "needs_background": "light"
     },
     "output_type": "display_data"
    }
   ],
   "source": [
    "pirate_start = (0, 0)\n",
    "play_game(model, qmaze, pirate_start)\n",
    "show(qmaze)"
   ]
  },
  {
   "cell_type": "markdown",
   "metadata": {},
   "source": [
    "## Save and Submit Your Work\n",
    "After you have finished creating the code for your notebook, save your work. Make sure that your notebook contains your name in the filename (e.g. Doe_Jane_ProjectTwo.ipynb). This will help your instructor access and grade your work easily. Download a copy of your IPYNB file and submit it to Brightspace. Refer to the Jupyter Notebook in Apporto Tutorial if you need help with these tasks."
   ]
  }
 ],
 "metadata": {
  "kernelspec": {
   "display_name": "Python 3",
   "language": "python",
   "name": "python3"
  },
  "language_info": {
   "codemirror_mode": {
    "name": "ipython",
    "version": 3
   },
   "file_extension": ".py",
   "mimetype": "text/x-python",
   "name": "python",
   "nbconvert_exporter": "python",
   "pygments_lexer": "ipython3",
   "version": "3.7.4"
  }
 },
 "nbformat": 4,
 "nbformat_minor": 2
}
